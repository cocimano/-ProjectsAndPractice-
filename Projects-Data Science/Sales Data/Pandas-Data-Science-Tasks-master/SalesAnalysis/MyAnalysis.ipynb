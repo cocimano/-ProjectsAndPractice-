{
 "cells": [
  {
   "cell_type": "code",
   "execution_count": 81,
   "id": "bfc5ef2e-2c20-4793-a8ca-2221e935c5ab",
   "metadata": {},
   "outputs": [],
   "source": [
    "import pandas as pd\n",
    "import os\n",
    "import numpy as np\n",
    "import calendar\n",
    "import matplotlib.pyplot as plt"
   ]
  },
  {
   "cell_type": "markdown",
   "id": "dd3bc998",
   "metadata": {},
   "source": [
    "### Merging 12 months of sale data into a single file"
   ]
  },
  {
   "cell_type": "code",
   "execution_count": 2,
   "id": "68cb99ba-b761-4f4e-b0ae-ad8747d1ab78",
   "metadata": {},
   "outputs": [
    {
     "data": {
      "text/plain": [
       "['Sales_April_2019.csv',\n",
       " 'Sales_August_2019.csv',\n",
       " 'Sales_December_2019.csv',\n",
       " 'Sales_February_2019.csv',\n",
       " 'Sales_January_2019.csv',\n",
       " 'Sales_July_2019.csv',\n",
       " 'Sales_June_2019.csv',\n",
       " 'Sales_March_2019.csv',\n",
       " 'Sales_May_2019.csv',\n",
       " 'Sales_November_2019.csv',\n",
       " 'Sales_October_2019.csv',\n",
       " 'Sales_September_2019.csv']"
      ]
     },
     "execution_count": 2,
     "metadata": {},
     "output_type": "execute_result"
    }
   ],
   "source": [
    "#read the path\n",
    "file_path = \"./Sales_Data\"\n",
    "#list all the files from the directory\n",
    "file_list = os.listdir(file_path)\n",
    "file_list"
   ]
  },
  {
   "cell_type": "code",
   "execution_count": 3,
   "id": "14dc5da1-1b9d-483b-8183-f95b0317e79e",
   "metadata": {},
   "outputs": [],
   "source": [
    "df_allData = pd.DataFrame()\n",
    "\n",
    "# append the CSV files\n",
    "for file in file_list:\n",
    "    file_full_path = file_path + '/' + file\n",
    "    df = pd.read_csv(file_full_path)\n",
    "    df_allData = pd.concat([df_allData,df])\n",
    "\n",
    "df_allData.to_csv('all_data.csv', index=False)"
   ]
  },
  {
   "cell_type": "markdown",
   "id": "cbe751b4",
   "metadata": {},
   "source": [
    "### Read in updated datafream"
   ]
  },
  {
   "cell_type": "code",
   "execution_count": 34,
   "id": "3588b0f2-151b-4c3a-aa0f-3cb4e0bb4b09",
   "metadata": {},
   "outputs": [
    {
     "data": {
      "text/html": [
       "<div>\n",
       "<style scoped>\n",
       "    .dataframe tbody tr th:only-of-type {\n",
       "        vertical-align: middle;\n",
       "    }\n",
       "\n",
       "    .dataframe tbody tr th {\n",
       "        vertical-align: top;\n",
       "    }\n",
       "\n",
       "    .dataframe thead th {\n",
       "        text-align: right;\n",
       "    }\n",
       "</style>\n",
       "<table border=\"1\" class=\"dataframe\">\n",
       "  <thead>\n",
       "    <tr style=\"text-align: right;\">\n",
       "      <th></th>\n",
       "      <th>Order ID</th>\n",
       "      <th>Product</th>\n",
       "      <th>Quantity Ordered</th>\n",
       "      <th>Price Each</th>\n",
       "      <th>Order Date</th>\n",
       "      <th>Purchase Address</th>\n",
       "    </tr>\n",
       "  </thead>\n",
       "  <tbody>\n",
       "    <tr>\n",
       "      <th>0</th>\n",
       "      <td>176558</td>\n",
       "      <td>USB-C Charging Cable</td>\n",
       "      <td>2</td>\n",
       "      <td>11.95</td>\n",
       "      <td>04/19/19 08:46</td>\n",
       "      <td>917 1st St, Dallas, TX 75001</td>\n",
       "    </tr>\n",
       "    <tr>\n",
       "      <th>1</th>\n",
       "      <td>NaN</td>\n",
       "      <td>NaN</td>\n",
       "      <td>NaN</td>\n",
       "      <td>NaN</td>\n",
       "      <td>NaN</td>\n",
       "      <td>NaN</td>\n",
       "    </tr>\n",
       "    <tr>\n",
       "      <th>2</th>\n",
       "      <td>176559</td>\n",
       "      <td>Bose SoundSport Headphones</td>\n",
       "      <td>1</td>\n",
       "      <td>99.99</td>\n",
       "      <td>04/07/19 22:30</td>\n",
       "      <td>682 Chestnut St, Boston, MA 02215</td>\n",
       "    </tr>\n",
       "    <tr>\n",
       "      <th>3</th>\n",
       "      <td>176560</td>\n",
       "      <td>Google Phone</td>\n",
       "      <td>1</td>\n",
       "      <td>600</td>\n",
       "      <td>04/12/19 14:38</td>\n",
       "      <td>669 Spruce St, Los Angeles, CA 90001</td>\n",
       "    </tr>\n",
       "    <tr>\n",
       "      <th>4</th>\n",
       "      <td>176560</td>\n",
       "      <td>Wired Headphones</td>\n",
       "      <td>1</td>\n",
       "      <td>11.99</td>\n",
       "      <td>04/12/19 14:38</td>\n",
       "      <td>669 Spruce St, Los Angeles, CA 90001</td>\n",
       "    </tr>\n",
       "  </tbody>\n",
       "</table>\n",
       "</div>"
      ],
      "text/plain": [
       "  Order ID                     Product Quantity Ordered Price Each  \\\n",
       "0   176558        USB-C Charging Cable                2      11.95   \n",
       "1      NaN                         NaN              NaN        NaN   \n",
       "2   176559  Bose SoundSport Headphones                1      99.99   \n",
       "3   176560                Google Phone                1        600   \n",
       "4   176560            Wired Headphones                1      11.99   \n",
       "\n",
       "       Order Date                      Purchase Address  \n",
       "0  04/19/19 08:46          917 1st St, Dallas, TX 75001  \n",
       "1             NaN                                   NaN  \n",
       "2  04/07/19 22:30     682 Chestnut St, Boston, MA 02215  \n",
       "3  04/12/19 14:38  669 Spruce St, Los Angeles, CA 90001  \n",
       "4  04/12/19 14:38  669 Spruce St, Los Angeles, CA 90001  "
      ]
     },
     "execution_count": 34,
     "metadata": {},
     "output_type": "execute_result"
    }
   ],
   "source": [
    "all_data = pd.read_csv('all_data.csv')\n",
    "all_data.head()"
   ]
  },
  {
   "cell_type": "markdown",
   "id": "f4e0d8bc",
   "metadata": {},
   "source": [
    "### Cleaning the data!!"
   ]
  },
  {
   "cell_type": "markdown",
   "id": "114f0280",
   "metadata": {},
   "source": [
    "#### Drop rows of NaN"
   ]
  },
  {
   "cell_type": "code",
   "execution_count": 35,
   "id": "88f0e05e",
   "metadata": {},
   "outputs": [
    {
     "data": {
      "text/html": [
       "<div>\n",
       "<style scoped>\n",
       "    .dataframe tbody tr th:only-of-type {\n",
       "        vertical-align: middle;\n",
       "    }\n",
       "\n",
       "    .dataframe tbody tr th {\n",
       "        vertical-align: top;\n",
       "    }\n",
       "\n",
       "    .dataframe thead th {\n",
       "        text-align: right;\n",
       "    }\n",
       "</style>\n",
       "<table border=\"1\" class=\"dataframe\">\n",
       "  <thead>\n",
       "    <tr style=\"text-align: right;\">\n",
       "      <th></th>\n",
       "      <th>Order ID</th>\n",
       "      <th>Product</th>\n",
       "      <th>Quantity Ordered</th>\n",
       "      <th>Price Each</th>\n",
       "      <th>Order Date</th>\n",
       "      <th>Purchase Address</th>\n",
       "    </tr>\n",
       "  </thead>\n",
       "  <tbody>\n",
       "    <tr>\n",
       "      <th>0</th>\n",
       "      <td>176558</td>\n",
       "      <td>USB-C Charging Cable</td>\n",
       "      <td>2</td>\n",
       "      <td>11.95</td>\n",
       "      <td>04/19/19 08:46</td>\n",
       "      <td>917 1st St, Dallas, TX 75001</td>\n",
       "    </tr>\n",
       "    <tr>\n",
       "      <th>2</th>\n",
       "      <td>176559</td>\n",
       "      <td>Bose SoundSport Headphones</td>\n",
       "      <td>1</td>\n",
       "      <td>99.99</td>\n",
       "      <td>04/07/19 22:30</td>\n",
       "      <td>682 Chestnut St, Boston, MA 02215</td>\n",
       "    </tr>\n",
       "    <tr>\n",
       "      <th>3</th>\n",
       "      <td>176560</td>\n",
       "      <td>Google Phone</td>\n",
       "      <td>1</td>\n",
       "      <td>600</td>\n",
       "      <td>04/12/19 14:38</td>\n",
       "      <td>669 Spruce St, Los Angeles, CA 90001</td>\n",
       "    </tr>\n",
       "    <tr>\n",
       "      <th>4</th>\n",
       "      <td>176560</td>\n",
       "      <td>Wired Headphones</td>\n",
       "      <td>1</td>\n",
       "      <td>11.99</td>\n",
       "      <td>04/12/19 14:38</td>\n",
       "      <td>669 Spruce St, Los Angeles, CA 90001</td>\n",
       "    </tr>\n",
       "    <tr>\n",
       "      <th>5</th>\n",
       "      <td>176561</td>\n",
       "      <td>Wired Headphones</td>\n",
       "      <td>1</td>\n",
       "      <td>11.99</td>\n",
       "      <td>04/30/19 09:27</td>\n",
       "      <td>333 8th St, Los Angeles, CA 90001</td>\n",
       "    </tr>\n",
       "  </tbody>\n",
       "</table>\n",
       "</div>"
      ],
      "text/plain": [
       "  Order ID                     Product Quantity Ordered Price Each  \\\n",
       "0   176558        USB-C Charging Cable                2      11.95   \n",
       "2   176559  Bose SoundSport Headphones                1      99.99   \n",
       "3   176560                Google Phone                1        600   \n",
       "4   176560            Wired Headphones                1      11.99   \n",
       "5   176561            Wired Headphones                1      11.99   \n",
       "\n",
       "       Order Date                      Purchase Address  \n",
       "0  04/19/19 08:46          917 1st St, Dallas, TX 75001  \n",
       "2  04/07/19 22:30     682 Chestnut St, Boston, MA 02215  \n",
       "3  04/12/19 14:38  669 Spruce St, Los Angeles, CA 90001  \n",
       "4  04/12/19 14:38  669 Spruce St, Los Angeles, CA 90001  \n",
       "5  04/30/19 09:27     333 8th St, Los Angeles, CA 90001  "
      ]
     },
     "execution_count": 35,
     "metadata": {},
     "output_type": "execute_result"
    }
   ],
   "source": [
    "dropna_data = all_data.dropna(how='all')\n",
    "dropna_data.head()\n",
    "all_data = dropna_data\n",
    "all_data.head()"
   ]
  },
  {
   "cell_type": "markdown",
   "id": "024c0c16",
   "metadata": {},
   "source": [
    "#### Find 'Or' Value in Month and delete it"
   ]
  },
  {
   "cell_type": "code",
   "execution_count": 36,
   "id": "7c912205",
   "metadata": {},
   "outputs": [],
   "source": [
    "temp_df = all_data[all_data['Order Date'].str[0:2] == 'Or']\n",
    "temp_df.head()\n",
    "\n",
    "all_data = all_data.loc[all_data['Order Date'].str[0:2] != 'Or']"
   ]
  },
  {
   "cell_type": "markdown",
   "id": "81e87a54",
   "metadata": {},
   "source": [
    "#### Convert columns to te correct type (str to numeric)"
   ]
  },
  {
   "cell_type": "code",
   "execution_count": 46,
   "id": "1651ab07",
   "metadata": {},
   "outputs": [],
   "source": [
    "all_data.loc['Quantity Ordered'] = pd.to_numeric(all_data['Quantity Ordered'])\n",
    "all_data.loc['Price Each'] = pd.to_numeric(all_data['Price Each'])"
   ]
  },
  {
   "cell_type": "markdown",
   "id": "01ce2d57",
   "metadata": {},
   "source": [
    "### Augment data with additional columns"
   ]
  },
  {
   "cell_type": "markdown",
   "id": "55bd76d8",
   "metadata": {},
   "source": [
    "#### Add Month Column"
   ]
  },
  {
   "cell_type": "code",
   "execution_count": 54,
   "id": "f70e427b",
   "metadata": {
    "tags": []
   },
   "outputs": [
    {
     "data": {
      "text/html": [
       "<div>\n",
       "<style scoped>\n",
       "    .dataframe tbody tr th:only-of-type {\n",
       "        vertical-align: middle;\n",
       "    }\n",
       "\n",
       "    .dataframe tbody tr th {\n",
       "        vertical-align: top;\n",
       "    }\n",
       "\n",
       "    .dataframe thead th {\n",
       "        text-align: right;\n",
       "    }\n",
       "</style>\n",
       "<table border=\"1\" class=\"dataframe\">\n",
       "  <thead>\n",
       "    <tr style=\"text-align: right;\">\n",
       "      <th></th>\n",
       "      <th>Order ID</th>\n",
       "      <th>Product</th>\n",
       "      <th>Quantity Ordered</th>\n",
       "      <th>Price Each</th>\n",
       "      <th>Order Date</th>\n",
       "      <th>Purchase Address</th>\n",
       "      <th>Month</th>\n",
       "    </tr>\n",
       "  </thead>\n",
       "  <tbody>\n",
       "    <tr>\n",
       "      <th>0</th>\n",
       "      <td>176558</td>\n",
       "      <td>USB-C Charging Cable</td>\n",
       "      <td>2.0</td>\n",
       "      <td>11.95</td>\n",
       "      <td>04/19/19 08:46</td>\n",
       "      <td>917 1st St, Dallas, TX 75001</td>\n",
       "      <td>04</td>\n",
       "    </tr>\n",
       "    <tr>\n",
       "      <th>2</th>\n",
       "      <td>176559</td>\n",
       "      <td>Bose SoundSport Headphones</td>\n",
       "      <td>1.0</td>\n",
       "      <td>99.99</td>\n",
       "      <td>04/07/19 22:30</td>\n",
       "      <td>682 Chestnut St, Boston, MA 02215</td>\n",
       "      <td>04</td>\n",
       "    </tr>\n",
       "    <tr>\n",
       "      <th>3</th>\n",
       "      <td>176560</td>\n",
       "      <td>Google Phone</td>\n",
       "      <td>1.0</td>\n",
       "      <td>600.00</td>\n",
       "      <td>04/12/19 14:38</td>\n",
       "      <td>669 Spruce St, Los Angeles, CA 90001</td>\n",
       "      <td>04</td>\n",
       "    </tr>\n",
       "    <tr>\n",
       "      <th>4</th>\n",
       "      <td>176560</td>\n",
       "      <td>Wired Headphones</td>\n",
       "      <td>1.0</td>\n",
       "      <td>11.99</td>\n",
       "      <td>04/12/19 14:38</td>\n",
       "      <td>669 Spruce St, Los Angeles, CA 90001</td>\n",
       "      <td>04</td>\n",
       "    </tr>\n",
       "    <tr>\n",
       "      <th>5</th>\n",
       "      <td>176561</td>\n",
       "      <td>Wired Headphones</td>\n",
       "      <td>1.0</td>\n",
       "      <td>11.99</td>\n",
       "      <td>04/30/19 09:27</td>\n",
       "      <td>333 8th St, Los Angeles, CA 90001</td>\n",
       "      <td>04</td>\n",
       "    </tr>\n",
       "  </tbody>\n",
       "</table>\n",
       "</div>"
      ],
      "text/plain": [
       "  Order ID                     Product  Quantity Ordered  Price Each  \\\n",
       "0   176558        USB-C Charging Cable               2.0       11.95   \n",
       "2   176559  Bose SoundSport Headphones               1.0       99.99   \n",
       "3   176560                Google Phone               1.0      600.00   \n",
       "4   176560            Wired Headphones               1.0       11.99   \n",
       "5   176561            Wired Headphones               1.0       11.99   \n",
       "\n",
       "       Order Date                      Purchase Address Month  \n",
       "0  04/19/19 08:46          917 1st St, Dallas, TX 75001    04  \n",
       "2  04/07/19 22:30     682 Chestnut St, Boston, MA 02215    04  \n",
       "3  04/12/19 14:38  669 Spruce St, Los Angeles, CA 90001    04  \n",
       "4  04/12/19 14:38  669 Spruce St, Los Angeles, CA 90001    04  \n",
       "5  04/30/19 09:27     333 8th St, Los Angeles, CA 90001    04  "
      ]
     },
     "execution_count": 54,
     "metadata": {},
     "output_type": "execute_result"
    }
   ],
   "source": [
    "all_data.loc['Month'] = all_data['Order Date'].str[0:2]\n",
    "all_data = all_data.dropna(subset=['Month'])\n",
    "all_data.loc['Month'] = all_data['Month'].astype('int32')\n",
    "all_data.head()"
   ]
  },
  {
   "cell_type": "markdown",
   "id": "0e23ffaf",
   "metadata": {},
   "source": [
    "### Q1: What was the best month for sales? How much was earned that month?\n"
   ]
  },
  {
   "cell_type": "code",
   "execution_count": 64,
   "id": "101d5d8f",
   "metadata": {},
   "outputs": [
    {
     "name": "stdout",
     "output_type": "stream",
     "text": [
      "Best month for sales: December with sales of 4613443.34\n"
     ]
    }
   ],
   "source": [
    "all_data['Sales'] = all_data['Quantity Ordered'] * all_data['Price Each']\n",
    "results = all_data.groupby('Month').sum() #sum() returns the sum of the values for the requested axis\n",
    "best_month = results['Sales'].idxmax() #idxmax() returns the index of the maximum value\n",
    "best_month_sales = results['Sales'].max() #max() returns the maximum value\n",
    "\n",
    "best_month_name = calendar.month_name[int(best_month)]\n",
    "print(f\"Best month for sales: {best_month_name} with sales of {best_month_sales}\")"
   ]
  },
  {
   "cell_type": "markdown",
   "id": "5923168b",
   "metadata": {},
   "source": [
    "#### Visualization"
   ]
  },
  {
   "cell_type": "code",
   "execution_count": 71,
   "id": "e07c465b",
   "metadata": {},
   "outputs": [
    {
     "data": {
      "image/png": "[encoded data removed]",
      "text/plain": [
       "<Figure size 640x480 with 1 Axes>"
      ]
     },
     "metadata": {},
     "output_type": "display_data"
    }
   ],
   "source": [
    "plt.bar(results.index, results['Sales']) #plt.bar(x,y)\n",
    "plt.ylabel('Sales in M USD ($)')\n",
    "plt.xlabel('Month number')\n",
    "plt.show()"
   ]
  },
  {
   "cell_type": "markdown",
   "id": "fa822a56",
   "metadata": {},
   "source": [
    "### Q2: What city sold the most product?"
   ]
  },
  {
   "cell_type": "markdown",
   "id": "81e0d585",
   "metadata": {},
   "source": [
    "#### Add City Column"
   ]
  },
  {
   "cell_type": "code",
   "execution_count": 92,
   "id": "948b46fc",
   "metadata": {},
   "outputs": [
    {
     "data": {
      "text/html": [
       "<div>\n",
       "<style scoped>\n",
       "    .dataframe tbody tr th:only-of-type {\n",
       "        vertical-align: middle;\n",
       "    }\n",
       "\n",
       "    .dataframe tbody tr th {\n",
       "        vertical-align: top;\n",
       "    }\n",
       "\n",
       "    .dataframe thead th {\n",
       "        text-align: right;\n",
       "    }\n",
       "</style>\n",
       "<table border=\"1\" class=\"dataframe\">\n",
       "  <thead>\n",
       "    <tr style=\"text-align: right;\">\n",
       "      <th></th>\n",
       "      <th>Order ID</th>\n",
       "      <th>Product</th>\n",
       "      <th>Quantity Ordered</th>\n",
       "      <th>Price Each</th>\n",
       "      <th>Order Date</th>\n",
       "      <th>Purchase Address</th>\n",
       "      <th>Month</th>\n",
       "      <th>Sales</th>\n",
       "      <th>City</th>\n",
       "    </tr>\n",
       "  </thead>\n",
       "  <tbody>\n",
       "    <tr>\n",
       "      <th>0</th>\n",
       "      <td>176558</td>\n",
       "      <td>USB-C Charging Cable</td>\n",
       "      <td>2.0</td>\n",
       "      <td>11.95</td>\n",
       "      <td>04/19/19 08:46</td>\n",
       "      <td>917 1st St, Dallas, TX 75001</td>\n",
       "      <td>04</td>\n",
       "      <td>23.90</td>\n",
       "      <td>Dallas</td>\n",
       "    </tr>\n",
       "    <tr>\n",
       "      <th>2</th>\n",
       "      <td>176559</td>\n",
       "      <td>Bose SoundSport Headphones</td>\n",
       "      <td>1.0</td>\n",
       "      <td>99.99</td>\n",
       "      <td>04/07/19 22:30</td>\n",
       "      <td>682 Chestnut St, Boston, MA 02215</td>\n",
       "      <td>04</td>\n",
       "      <td>99.99</td>\n",
       "      <td>Boston</td>\n",
       "    </tr>\n",
       "    <tr>\n",
       "      <th>3</th>\n",
       "      <td>176560</td>\n",
       "      <td>Google Phone</td>\n",
       "      <td>1.0</td>\n",
       "      <td>600.00</td>\n",
       "      <td>04/12/19 14:38</td>\n",
       "      <td>669 Spruce St, Los Angeles, CA 90001</td>\n",
       "      <td>04</td>\n",
       "      <td>600.00</td>\n",
       "      <td>Los Angeles</td>\n",
       "    </tr>\n",
       "    <tr>\n",
       "      <th>4</th>\n",
       "      <td>176560</td>\n",
       "      <td>Wired Headphones</td>\n",
       "      <td>1.0</td>\n",
       "      <td>11.99</td>\n",
       "      <td>04/12/19 14:38</td>\n",
       "      <td>669 Spruce St, Los Angeles, CA 90001</td>\n",
       "      <td>04</td>\n",
       "      <td>11.99</td>\n",
       "      <td>Los Angeles</td>\n",
       "    </tr>\n",
       "    <tr>\n",
       "      <th>5</th>\n",
       "      <td>176561</td>\n",
       "      <td>Wired Headphones</td>\n",
       "      <td>1.0</td>\n",
       "      <td>11.99</td>\n",
       "      <td>04/30/19 09:27</td>\n",
       "      <td>333 8th St, Los Angeles, CA 90001</td>\n",
       "      <td>04</td>\n",
       "      <td>11.99</td>\n",
       "      <td>Los Angeles</td>\n",
       "    </tr>\n",
       "  </tbody>\n",
       "</table>\n",
       "</div>"
      ],
      "text/plain": [
       "  Order ID                     Product  Quantity Ordered  Price Each  \\\n",
       "0   176558        USB-C Charging Cable               2.0       11.95   \n",
       "2   176559  Bose SoundSport Headphones               1.0       99.99   \n",
       "3   176560                Google Phone               1.0      600.00   \n",
       "4   176560            Wired Headphones               1.0       11.99   \n",
       "5   176561            Wired Headphones               1.0       11.99   \n",
       "\n",
       "       Order Date                      Purchase Address Month   Sales  \\\n",
       "0  04/19/19 08:46          917 1st St, Dallas, TX 75001    04   23.90   \n",
       "2  04/07/19 22:30     682 Chestnut St, Boston, MA 02215    04   99.99   \n",
       "3  04/12/19 14:38  669 Spruce St, Los Angeles, CA 90001    04  600.00   \n",
       "4  04/12/19 14:38  669 Spruce St, Los Angeles, CA 90001    04   11.99   \n",
       "5  04/30/19 09:27     333 8th St, Los Angeles, CA 90001    04   11.99   \n",
       "\n",
       "          City  \n",
       "0       Dallas  \n",
       "2       Boston  \n",
       "3  Los Angeles  \n",
       "4  Los Angeles  \n",
       "5  Los Angeles  "
      ]
     },
     "execution_count": 92,
     "metadata": {},
     "output_type": "execute_result"
    }
   ],
   "source": [
    "all_data['City'] = \"\"\n",
    "all_data['City'] = all_data['Purchase Address'].str.split(',').str[1].str.strip()\n",
    "all_data.head()"
   ]
  },
  {
   "cell_type": "markdown",
   "id": "47ea9762",
   "metadata": {},
   "source": [
    "#### Calculate Amount of products"
   ]
  },
  {
   "cell_type": "code",
   "execution_count": 102,
   "id": "732a2843",
   "metadata": {},
   "outputs": [
    {
     "name": "stdout",
     "output_type": "stream",
     "text": [
      "Top product: AAA Batteries (4-pack) with quantity ordered of 31017.0\n",
      "City with the most orders: San Francisco with quantity ordered of 50239.0\n"
     ]
    }
   ],
   "source": [
    "product_group = all_data.groupby('Product').sum()\n",
    "top_product = product_group['Quantity Ordered'].idxmax()\n",
    "quantity_ordered = product_group['Quantity Ordered'].max()\n",
    "print(f\"Top product: {top_product} with quantity ordered of {quantity_ordered}\")\n",
    "\n",
    "product_per_city = all_data.groupby('City').sum()\n",
    "city = product_per_city['Quantity Ordered'].idxmax()\n",
    "quantity_ordered = product_per_city['Quantity Ordered'].max()\n",
    "print(f\"City with the most orders: {city} with quantity ordered of {quantity_ordered}\")"
   ]
  },
  {
   "cell_type": "code",
   "execution_count": null,
   "id": "ed24928e",
   "metadata": {},
   "outputs": [],
   "source": []
  }
 ],
 "metadata": {
  "kernelspec": {
   "display_name": "Python 3 (ipykernel)",
   "language": "python",
   "name": "python3"
  },
  "language_info": {
   "codemirror_mode": {
    "name": "ipython",
    "version": 3
   },
   "file_extension": ".py",
   "mimetype": "text/x-python",
   "name": "python",
   "nbconvert_exporter": "python",
   "pygments_lexer": "ipython3",
   "version": "3.9.2"
  }
 },
 "nbformat": 4,
 "nbformat_minor": 5
}
